{
 "cells": [
  {
   "cell_type": "markdown",
   "id": "7128703c-c74c-42ba-ba20-f85a445ec271",
   "metadata": {},
   "source": [
    "# Data Science Tools and Ecosystem"
   ]
  },
  {
   "cell_type": "markdown",
   "id": "08e9032a-f3c0-48a5-a5d3-4bc4c58e66d1",
   "metadata": {},
   "source": [
    "En este cuaderno, se resumen las herramientas y ecosistemas de ciencia de datos."
   ]
  },
  {
   "cell_type": "markdown",
   "id": "2ff02c80-5b56-42fe-b913-d9b5c4ecae47",
   "metadata": {},
   "source": [
    "**Objetivos:**\n",
    "\n",
    "- Listar lenguajes populares para Ciencia de Datos.\n",
    "- Listar bibliotecas comúnmente usadas en Ciencia de Datos.\n",
    "- Presentar herramientas de desarrollo para Ciencia de Datos.\n",
    "- Mostrar ejemplos de expresiones aritméticas en Python.\n",
    "- Convertir unidades utilizando código Python."
   ]
  },
  {
   "cell_type": "markdown",
   "id": "a1d49d7b-ef80-4837-a020-add85e9ff682",
   "metadata": {},
   "source": [
    "Algunos de los lenguajes populares que utilizan los científicos de datos son:\n",
    "\n",
    "1. Python\n",
    "2. R\n",
    "3. SQL\n",
    "4. Julia\n",
    "5. Scala"
   ]
  },
  {
   "cell_type": "markdown",
   "id": "dcb5e629-bb87-4469-a7aa-392ed763aa2a",
   "metadata": {},
   "source": [
    "Algunas de las bibliotecas comúnmente utilizadas por los científicos de datos incluyen:\n",
    "\n",
    "1. Pandas\n",
    "2. NumPy\n",
    "3. Matplotlib\n",
    "4. Scikit-learn\n",
    "5. TensorFlow\n",
    "6. PyTorch"
   ]
  },
  {
   "cell_type": "markdown",
   "id": "fd80d409-3e34-4957-a51a-4c4a7e3bfcf9",
   "metadata": {},
   "source": [
    "| Herramientas de Ciencia de Datos |\n",
    "|----------------------------------|\n",
    "| Jupyter Notebook                 |\n",
    "| RStudio                          |\n",
    "| VS Code (con extensión Jupyter)  |"
   ]
  },
  {
   "cell_type": "markdown",
   "id": "21e49b1a-a5ce-4509-ba2b-263496000c05",
   "metadata": {},
   "source": [
    "### A continuación, se presentan algunos ejemplos de evaluación de expresiones aritméticas en Python."
   ]
  },
  {
   "cell_type": "code",
   "execution_count": 8,
   "id": "f7a94770-952b-441b-80c3-e558281fe6de",
   "metadata": {},
   "outputs": [
    {
     "data": {
      "text/plain": [
       "17"
      ]
     },
     "execution_count": 8,
     "metadata": {},
     "output_type": "execute_result"
    }
   ],
   "source": [
    "# Esta es una expresión aritmética simple para multiplicar y luego sumar enteros.\n",
    "(3*4)+5"
   ]
  },
  {
   "cell_type": "code",
   "execution_count": 10,
   "id": "751103b5-ec94-4da1-bf92-b97c174df2fb",
   "metadata": {},
   "outputs": [
    {
     "data": {
      "text/plain": [
       "3.3333333333333335"
      ]
     },
     "execution_count": 10,
     "metadata": {},
     "output_type": "execute_result"
    }
   ],
   "source": [
    "# Esto convertirá 200 minutos a horas dividiendo por 60.\n",
    "200 / 60"
   ]
  },
  {
   "cell_type": "markdown",
   "id": "dea91916-383b-428d-a9b3-effcbdbe9a90",
   "metadata": {},
   "source": [
    "## Autor\n",
    "Valerie Johanna Coronado Ramirez"
   ]
  },
  {
   "cell_type": "code",
   "execution_count": null,
   "id": "ecc3138e-8b19-451c-a51a-f9af81971324",
   "metadata": {},
   "outputs": [],
   "source": []
  }
 ],
 "metadata": {
  "kernelspec": {
   "display_name": "Python [conda env:base] *",
   "language": "python",
   "name": "conda-base-py"
  },
  "language_info": {
   "codemirror_mode": {
    "name": "ipython",
    "version": 3
   },
   "file_extension": ".py",
   "mimetype": "text/x-python",
   "name": "python",
   "nbconvert_exporter": "python",
   "pygments_lexer": "ipython3",
   "version": "3.12.7"
  }
 },
 "nbformat": 4,
 "nbformat_minor": 5
}
